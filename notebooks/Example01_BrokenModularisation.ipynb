{
 "cells": [
  {
   "cell_type": "code",
   "execution_count": 2,
   "id": "b0c2ac03-af78-4908-8732-6a74b117a723",
   "metadata": {},
   "outputs": [
    {
     "name": "stdout",
     "output_type": "stream",
     "text": [
      "Overwriting auto display for cadquery Workplane and Shape\n",
      "\n",
      "Enabling jupyter_cadquery replay\n",
      "\n",
      "Versions:\n",
      "- jupyter_cadquery  3.5.2\n",
      "- cad_viewer_widget 1.4.1\n",
      "- open cascade      7.6.3\n",
      "\n",
      "Plugins loaded:\n",
      "- cadquery-massembly\n"
     ]
    }
   ],
   "source": [
    "import cadquery as cq\n",
    "\n",
    "from jupyter_cadquery import (\n",
    "    versions,\n",
    "    show, PartGroup, Part, \n",
    "    get_viewer, close_viewer, get_viewers, close_viewers, open_viewer, set_defaults, get_defaults, open_viewer,\n",
    "    get_pick,\n",
    ")\n",
    "\n",
    "from jupyter_cadquery.replay import replay, enable_replay, disable_replay, reset_replay\n",
    "''\n",
    "enable_replay(False)\n",
    "\n",
    "set_defaults(\n",
    "    cad_width=640, \n",
    "    height=480, \n",
    ")\n",
    "\n",
    "versions()"
   ]
  },
  {
   "cell_type": "code",
   "execution_count": 3,
   "id": "fce1fbc5-da5d-4ed8-b26d-5b4278cd8a55",
   "metadata": {},
   "outputs": [
    {
     "name": "stdout",
     "output_type": "stream",
     "text": [
      "\n",
      "Enabling jupyter_cadquery replay\n"
     ]
    }
   ],
   "source": [
    "set_defaults(axes=True, timeit=False)\n",
    "\n",
    "cv = open_viewer(\"Broken Modularisation\", cad_width=640, height=480, glass=True)\n",
    "\n",
    "\n",
    "enable_replay(False, False)\n",
    "show_object = replay\n"
   ]
  },
  {
   "cell_type": "code",
   "execution_count": 29,
   "id": "1fa5fde3-082d-44d9-b134-d4134a2a2573",
   "metadata": {},
   "outputs": [
    {
     "name": "stdout",
     "output_type": "stream",
     "text": [
      "Use the multi select box below to select one or more steps you want to examine\n",
      "Cannot replay (<cadquery.cq.Workplane object at 0x7fff80f374c0>,)\n"
     ]
    }
   ],
   "source": [
    "# These can be modified rather than hardcoding values for each dimension.\n",
    "length = 120.0  # Length of the block\n",
    "width = 40.0  # Width of the block\n",
    "thickness = 80.0  # Thickness of the block\n",
    "\n",
    "flange_length = 120.0  # Length of the block's flange\n",
    "flange_width = 40.0  # Width of the block's flange\n",
    "flange_thickness = 40.0  # Thickness of the block's flange\n",
    "\n",
    "result = (\n",
    "    cq.Workplane('XZ')\n",
    "    .box(length, width, thickness),\n",
    ")\n",
    "\n",
    "# Displays the result of this script\n",
    "show_object(result, show_result=False)"
   ]
  },
  {
   "cell_type": "code",
   "execution_count": 30,
   "id": "66817dd5-2154-4067-b079-11f17784461a",
   "metadata": {},
   "outputs": [
    {
     "name": "stdout",
     "output_type": "stream",
     "text": [
      "Use the multi select box below to select one or more steps you want to examine\n"
     ]
    },
    {
     "data": {
      "application/vnd.jupyter.widget-view+json": {
       "model_id": "9019f98a422f4620838f8aab60b2c0a9",
       "version_major": 2,
       "version_minor": 0
      },
      "text/plain": [
       "HBox(children=(SelectMultiple(_dom_classes=('monospace',), index=(20,), layout=Layout(width='600px'), options=…"
      ]
     },
     "metadata": {},
     "output_type": "display_data"
    },
    {
     "data": {
      "text/plain": [
       "<jupyter_cadquery.replay.Replay at 0x7fff80f372e0>"
      ]
     },
     "execution_count": 30,
     "metadata": {},
     "output_type": "execute_result"
    }
   ],
   "source": [
    "# Base dimensions\n",
    "length = 120.0  # Length of the box\n",
    "width = 40.0    # Width of the box\n",
    "height = 80.0   # Height (extrusion depth) of the box\n",
    "\n",
    "# Start with a new workplane that represents the \"bottom\" face of the box,\n",
    "# where we want the corner to be at the origin.\n",
    "# In this case, use the XY plane for simplicity.\n",
    "# The rectangle will be defined so that one corner starts at the origin.\n",
    "\n",
    "# Note: The rectangle() method creates a rectangle centered on the workplane's origin by default.\n",
    "# To start from a corner, we offset the sketch to place the corner at the origin.\n",
    "workplane = cq.Workplane(\"XZ\")\n",
    "\n",
    "# The key here is that we create the rectangle starting from (0, 0) extending to (length, width),\n",
    "# ensuring the lower left corner aligns with the origin.\n",
    "# We move the starting point of the rectangle to the workplane origin and specify the dimensions.\n",
    "rectangle = workplane.rect(length, width, centered=False).wires()\n",
    "\n",
    "# Now, extrude the rectangle to create the 3D shape.\n",
    "base = rectangle.extrude(height)\n",
    "\n",
    "\n",
    "# Show the result if using an environment like CQ-editor\n",
    "# show_object(base)\n",
    "\n",
    "\n",
    "# L-shape feature dimensions\n",
    "feature_A_length = 40.0  # How far the feature extends to form the \"L\" shape\n",
    "feature_A_thickness = 60.0  # Thickness of the vertical feature\n",
    "\n",
    "# Sketch and extrude the L-shape feature\n",
    "# Assuming you want the feature to align with the left side and bottom of the base,\n",
    "# you start a new sketch from the bottom left corner of the base.\n",
    "# Since the workplane is \"XZ\", moving in the \"negative Y\" direction from the origin\n",
    "# aligns the sketch with the left side of the base.\n",
    "feature_A = (\n",
    "    workplane\n",
    "    .transformed(offset=(0, width, 0))  # Align with the left side of the base\n",
    "    .rect(feature_A_length, feature_A_thickness, centered=False)  # Sketch the rectangle for the L feature\n",
    "    .extrude(height)  # Extrude to the same height as the base\n",
    ")\n",
    "\n",
    "# Combine the base and the L-feature to form a single L-shaped object\n",
    "final_object = base.union(feature_A)\n",
    "\n",
    "\n",
    "# L-shape feature dimensions\n",
    "feature_B_length = 40.0  # How far the feature extends to form the \"L\" shape\n",
    "feature_B_thickness = 60.0  # Thickness of the vertical feature\n",
    "\n",
    "# Assuming you want the feature to align with the left side and bottom of the base,\n",
    "# you start a new sketch from the bottom left corner of the base.\n",
    "# Since the workplane is \"XZ\", moving in the \"negative Y\" direction from the origin\n",
    "# aligns the sketch with the left side of the base.\n",
    "feature_B = (\n",
    "    workplane\n",
    "    .transformed(offset=(length, width, 0))  # Align with the left side of the base\n",
    "    .rect(-feature_B_length, feature_B_thickness, centered=False)  # Sketch the rectangle for the L feature\n",
    "    .extrude(height)  # Extrude to the same height as the base\n",
    ")\n",
    "\n",
    "\n",
    "# Combine the base and the L-feature to form a single L-shaped object\n",
    "final_object = final_object.union(feature_B)\n",
    "\n",
    "\n",
    "# Select a face of the base object to start a new workplane.\n",
    "# For example, select the top face using a normal vector pointing in the Z direction.\n",
    "hole_A_workplane = final_object.faces(\">Y\").workplane()\n",
    "\n",
    "# Hole dimensions\n",
    "hole_diameter = 20.0  # Diameter of the hole\n",
    "\n",
    "final_object = (\n",
    "    hole_A_workplane\n",
    "    .moveTo(-20, 70)  # Adjust these coordinates as needed\n",
    "    .circle(hole_diameter / 2)\n",
    "    .cutThruAll()\n",
    ")\n",
    "\n",
    "# Select a face of the base object to start a new workplane.\n",
    "# For example, select the top face using a normal vector pointing in the Z direction.\n",
    "hole_A_workplane = final_object.faces(\">Y\").workplane()\n",
    "\n",
    "final_object = (\n",
    "    hole_A_workplane\n",
    "    .moveTo(-100, 70)  # Adjust these coordinates as needed\n",
    "    .circle(hole_diameter / 2)\n",
    "    .cutThruAll()\n",
    ")\n",
    "\n",
    "# Subtract the cylinder from the base object to create a hole or recess.\n",
    "# final_object = final_object.union(hole_feature_A)\n",
    "\n",
    "# Show the result\n",
    "show_object(final_object)"
   ]
  },
  {
   "cell_type": "code",
   "execution_count": 31,
   "id": "a5957341-31d5-45d4-a221-4341759f32d7",
   "metadata": {},
   "outputs": [
    {
     "name": "stdout",
     "output_type": "stream",
     "text": [
      "Use the multi select box below to select one or more steps you want to examine\n"
     ]
    },
    {
     "data": {
      "application/vnd.jupyter.widget-view+json": {
       "model_id": "c33322628a08446c97a5ad3356bd142b",
       "version_major": 2,
       "version_minor": 0
      },
      "text/plain": [
       "HBox(children=(SelectMultiple(_dom_classes=('monospace',), index=(18,), layout=Layout(width='600px'), options=…"
      ]
     },
     "metadata": {},
     "output_type": "display_data"
    },
    {
     "data": {
      "text/plain": [
       "<jupyter_cadquery.replay.Replay at 0x7ffffc58d0f0>"
      ]
     },
     "execution_count": 31,
     "metadata": {},
     "output_type": "execute_result"
    }
   ],
   "source": [
    "# Base dimensions\n",
    "length = 120.0  # Length of the box\n",
    "width = 40.0    # Width of the box\n",
    "height = 80.0   # Height (extrusion depth) of the box\n",
    "\n",
    "# Start with a new workplane that represents the \"bottom\" face of the box,\n",
    "# where we want the corner to be at the origin.\n",
    "# In this case, use the XY plane for simplicity.\n",
    "# The rectangle will be defined so that one corner starts at the origin.\n",
    "\n",
    "# Note: The rectangle() method creates a rectangle centered on the workplane's origin by default.\n",
    "# To start from a corner, we offset the sketch to place the corner at the origin.\n",
    "workplane = cq.Workplane(\"XZ\")\n",
    "\n",
    "# The key here is that we create the rectangle starting from (0, 0) extending to (length, width),\n",
    "# ensuring the lower left corner aligns with the origin.\n",
    "# We move the starting point of the rectangle to the workplane origin and specify the dimensions.\n",
    "rectangle = workplane.rect(length, width, centered=False).wires()\n",
    "\n",
    "# Now, extrude the rectangle to create the 3D shape.\n",
    "base = rectangle.extrude(height)\n",
    "\n",
    "\n",
    "# Show the result if using an environment like CQ-editor\n",
    "# show_object(base)\n",
    "\n",
    "\n",
    "# L-shape feature dimensions\n",
    "feature_A_length = 40.0  # How far the feature extends to form the \"L\" shape\n",
    "feature_A_thickness = 60.0  # Thickness of the vertical feature\n",
    "\n",
    "# Sketch and extrude the L-shape feature\n",
    "# Assuming you want the feature to align with the left side and bottom of the base,\n",
    "# you start a new sketch from the bottom left corner of the base.\n",
    "# Since the workplane is \"XZ\", moving in the \"negative Y\" direction from the origin\n",
    "# aligns the sketch with the left side of the base.\n",
    "feature_A = (\n",
    "    workplane\n",
    "    .transformed(offset=(0, width, 0))  # Align with the left side of the base\n",
    "    .rect(feature_A_length, feature_A_thickness, centered=False)  # Sketch the rectangle for the L feature\n",
    "    .extrude(height)  # Extrude to the same height as the base\n",
    ")\n",
    "\n",
    "# Combine the base and the L-feature to form a single L-shaped object\n",
    "final_object = base.union(feature_A)\n",
    "\n",
    "\n",
    "# L-shape feature dimensions\n",
    "feature_B_length = 40.0  # How far the feature extends to form the \"L\" shape\n",
    "feature_B_thickness = 60.0  # Thickness of the vertical feature\n",
    "\n",
    "# Assuming you want the feature to align with the left side and bottom of the base,\n",
    "# you start a new sketch from the bottom left corner of the base.\n",
    "# Since the workplane is \"XZ\", moving in the \"negative Y\" direction from the origin\n",
    "# aligns the sketch with the left side of the base.\n",
    "feature_B = (\n",
    "    workplane\n",
    "    .transformed(offset=(length, width, 0))  # Align with the left side of the base\n",
    "    .rect(-feature_B_length, feature_B_thickness, centered=False)  # Sketch the rectangle for the L feature\n",
    "    .extrude(height)  # Extrude to the same height as the base\n",
    ")\n",
    "\n",
    "\n",
    "# Combine the base and the L-feature to form a single L-shaped object\n",
    "final_object = final_object.union(feature_B)\n",
    "\n",
    "\n",
    "# Select a face of the base object to start a new workplane.\n",
    "# For example, select the top face using a normal vector pointing in the Z direction.\n",
    "hole_A_workplane = final_object.faces(\">Y\").workplane()\n",
    "\n",
    "\n",
    "# Assuming feature_A is meant to be a subtraction, not an addition\n",
    "# Model feature_A similarly, but instead of adding it to the base, subtract it\n",
    "hole_feature_A = (\n",
    "    workplane\n",
    "    .transformed(offset=(feature_A_length/2, 70, 0))\n",
    "    .circle(hole_diameter / 2)\n",
    "    .extrude(height)\n",
    ")\n",
    "\n",
    "# Subtract hole_feature_A from the base object\n",
    "final_object = final_object.cut(hole_feature_A)\n",
    "\n",
    "\n",
    "# Assuming feature_A is meant to be a subtraction, not an addition\n",
    "# Model feature_A similarly, but instead of adding it to the base, subtract it\n",
    "hole_feature_B = (\n",
    "    workplane\n",
    "    .transformed(offset=(length/2 + feature_B_length, 70, 0))\n",
    "    .circle(hole_diameter / 2)\n",
    "    .extrude(height)\n",
    ")\n",
    "\n",
    "# Subtract hole_feature_A from the base object\n",
    "final_object = final_object.cut(hole_feature_B)\n",
    "\n",
    "\n",
    "# Show the result\n",
    "show_object(final_object)"
   ]
  },
  {
   "cell_type": "code",
   "execution_count": 6,
   "id": "16703982-104b-491f-98f7-a202072dd916",
   "metadata": {
    "tags": [
     "name_of_cell_defining_BrokenModularisation"
    ]
   },
   "outputs": [
    {
     "name": "stdout",
     "output_type": "stream",
     "text": [
      "Use the multi select box below to select one or more steps you want to examine\n"
     ]
    },
    {
     "data": {
      "application/vnd.jupyter.widget-view+json": {
       "model_id": "d8632df6fe14481e8b5b9291291e1e55",
       "version_major": 2,
       "version_minor": 0
      },
      "text/plain": [
       "HBox(children=(SelectMultiple(_dom_classes=('monospace',), index=(18,), layout=Layout(width='600px'), options=…"
      ]
     },
     "metadata": {},
     "output_type": "display_data"
    }
   ],
   "source": [
    "class BrokenModularisation:\n",
    "    \"\"\"\n",
    "    Create an U-shaped object with specified dimensions and holes.\n",
    "    This is an example of BrokenModularisation.\n",
    "    \n",
    "    Parameters:\n",
    "    - length, width, height: Dimensions of the base box.\n",
    "    - feature_A_length, feature_A_thickness: Dimensions of feature A.\n",
    "    - feature_B_length, feature_B_thickness: Dimensions of feature B.\n",
    "    - hole_diameter: Diameter of the holes.\n",
    "    - hole_A_position: Tuple (x, y) position for hole A relative to feature A's center.\n",
    "    - hole_B_position: Tuple (x, y) position for hole B relative to feature B's center.\n",
    "    \n",
    "    Returns:\n",
    "    - A CADquery object representing the final L-shaped object.\n",
    "    \"\"\"\n",
    "    def __init__(self, length, width, height, feature_A_length, feature_A_thickness, feature_B_length, feature_B_thickness, hole_diameter, hole_A_position, hole_B_position):\n",
    "        self.length = length\n",
    "        self.width = width\n",
    "        self.height = height\n",
    "        self.feature_A_length = feature_A_length\n",
    "        self.feature_A_thickness = feature_A_thickness\n",
    "        self.feature_B_length = feature_B_length\n",
    "        self.feature_B_thickness = feature_B_thickness\n",
    "        self.hole_diameter = hole_diameter\n",
    "        self.hole_A_position = hole_A_position\n",
    "        self.hole_B_position = hole_B_position\n",
    "        self.final_object = self._create_object()\n",
    "        \n",
    "    def _create_object(self):\n",
    "        workplane = cq.Workplane(\"XZ\")\n",
    "        base = workplane.rect(self.length, self.width, centered=False).wires().extrude(self.height)\n",
    "        feature_A = workplane.transformed(offset=(0, self.width, 0)).rect(self.feature_A_length, self.feature_A_thickness, centered=False).extrude(self.height)\n",
    "        final_object = base.union(feature_A)\n",
    "        feature_B = workplane.transformed(offset=(self.length, self.width, 0)).rect(-self.feature_B_length, self.feature_B_thickness, centered=False).extrude(self.height)\n",
    "        final_object = final_object.union(feature_B)\n",
    "        hole_feature_A = (workplane.transformed(offset=(self.hole_A_position[0], self.hole_A_position[1], 0)).circle(self.hole_diameter / 2).extrude(self.height))\n",
    "        final_object = final_object.cut(hole_feature_A)\n",
    "        hole_feature_B = (workplane.transformed(offset=(self.hole_B_position[0], self.hole_B_position[1], 0)).circle(self.hole_diameter / 2).extrude(self.height))\n",
    "        final_object = final_object.cut(hole_feature_B)\n",
    "        return final_object\n",
    "\n",
    "    def show(self):\n",
    "        show_object(self.final_object)\n",
    "\n",
    "# Example usage:\n",
    "Broken_Modularisation_object = BrokenModularisation(\n",
    "    length=120.0, \n",
    "    width=40.0, \n",
    "    height=80.0, \n",
    "    feature_A_length=40.0, \n",
    "    feature_A_thickness=60.0, \n",
    "    feature_B_length=40.0, \n",
    "    feature_B_thickness=60.0, \n",
    "    hole_diameter=20.0, \n",
    "    hole_A_position=(20, 70), \n",
    "    hole_B_position=(100, 70)\n",
    ")\n",
    "\n",
    "Broken_Modularisation_object.show()\n"
   ]
  }
 ],
 "metadata": {
  "kernelspec": {
   "display_name": "Python 3 (ipykernel)",
   "language": "python",
   "name": "python3"
  },
  "language_info": {
   "codemirror_mode": {
    "name": "ipython",
    "version": 3
   },
   "file_extension": ".py",
   "mimetype": "text/x-python",
   "name": "python",
   "nbconvert_exporter": "python",
   "pygments_lexer": "ipython3",
   "version": "3.10.8"
  }
 },
 "nbformat": 4,
 "nbformat_minor": 5
}
