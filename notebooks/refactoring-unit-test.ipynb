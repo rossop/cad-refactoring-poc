{
 "cells": [
  {
   "cell_type": "code",
   "execution_count": 1,
   "id": "849e27cb-9935-4130-8170-9f71c527cc1f",
   "metadata": {
    "tags": [
     "imports"
    ]
   },
   "outputs": [
    {
     "name": "stdout",
     "output_type": "stream",
     "text": [
      "Overwriting auto display for cadquery Workplane and Shape\n",
      "\n",
      "Enabling jupyter_cadquery replay\n",
      "\n",
      "Versions:\n",
      "- jupyter_cadquery  3.5.2\n",
      "- cad_viewer_widget 1.4.1\n",
      "- open cascade      7.6.3\n",
      "\n",
      "Plugins loaded:\n",
      "- cadquery-massembly\n"
     ]
    }
   ],
   "source": [
    "import cadquery as cq\n",
    "\n",
    "from jupyter_cadquery import (\n",
    "    versions,\n",
    "    show, PartGroup, Part, \n",
    "    get_viewer, close_viewer, get_viewers, close_viewers, open_viewer, set_defaults, get_defaults, open_viewer,\n",
    "    get_pick,\n",
    ")\n",
    "\n",
    "from jupyter_cadquery.replay import replay, enable_replay, disable_replay, reset_replay\n",
    "\n",
    "enable_replay(False)\n",
    "\n",
    "set_defaults(\n",
    "    cad_width=640, \n",
    "    height=480, \n",
    ")\n",
    "\n",
    "versions()"
   ]
  },
  {
   "cell_type": "code",
   "execution_count": 2,
   "id": "d6f8504c-d6a0-4db2-83ac-1cdf759edbaf",
   "metadata": {},
   "outputs": [
    {
     "name": "stdout",
     "output_type": "stream",
     "text": [
      "\n",
      "Enabling jupyter_cadquery replay\n"
     ]
    }
   ],
   "source": [
    "set_defaults(axes=True, timeit=False)\n",
    "\n",
    "cv = open_viewer(\"Unit Test Files\", cad_width=640, height=480, glass=True)\n",
    "\n",
    "\n",
    "enable_replay(False, False)\n",
    "show_object = replay"
   ]
  },
  {
   "cell_type": "code",
   "execution_count": 3,
   "id": "c3ce3d92-675e-4743-9a34-ca5775400496",
   "metadata": {},
   "outputs": [
    {
     "name": "stdout",
     "output_type": "stream",
     "text": [
      "Use the multi select box below to select one or more steps you want to examine\n"
     ]
    },
    {
     "data": {
      "application/vnd.jupyter.widget-view+json": {
       "model_id": "d3fe1ac21c034bf09268a23ca7ceda9e",
       "version_major": 2,
       "version_minor": 0
      },
      "text/plain": [
       "HBox(children=(SelectMultiple(_dom_classes=('monospace',), index=(0,), layout=Layout(width='600px'), options=(…"
      ]
     },
     "metadata": {},
     "output_type": "display_data"
    },
    {
     "data": {
      "text/plain": [
       "<jupyter_cadquery.replay.Replay at 0x7ffffc5af9d0>"
      ]
     },
     "execution_count": 3,
     "metadata": {},
     "output_type": "execute_result"
    }
   ],
   "source": [
    "# These can be modified rather than hardcoding values for each dimension.\n",
    "length = 120.0  # Length of the block\n",
    "width = 40.0  # Width of the block\n",
    "thickness = 80.0  # Thickness of the block\n",
    "\n",
    "feature_b_length = 120.0  # Length of the block's flange\n",
    "feature_b_width = 40.0  # Width of the block's flange\n",
    "feature_b_thickness = 40.0  # Thickness of the block's flange\n",
    "\n",
    "result = (\n",
    "    cq.Workplane('XZ')\n",
    "    .box(length, width, thickness)\n",
    ")\n",
    "\n",
    "# Displays the result of this script\n",
    "show_object(result, show_result=False)"
   ]
  },
  {
   "cell_type": "markdown",
   "id": "81a9b76c-885f-400c-a0cc-571d0281e905",
   "metadata": {},
   "source": [
    "* [ ] Change flange to feature name"
   ]
  },
  {
   "cell_type": "code",
   "execution_count": 4,
   "id": "3244da13-2e41-4a49-ab5c-5af43669d186",
   "metadata": {},
   "outputs": [],
   "source": [
    "class CentredLShapedBlock:\n",
    "    '''\n",
    "    Represents an L-shaped block constructed from a main block and a flange.\n",
    "\n",
    "    This class encapsulates the creation of an L-shaped block model using CadQuery. \n",
    "    The model consists of a primary rectangular block and a flange extending from one side,\n",
    "    forming an L-shape. The dimensions of both the main block and the flange can be \n",
    "    customized.\n",
    "\n",
    "    Attributes:\n",
    "        length (float): The length of the main block.\n",
    "        width (float): The width of the main block.\n",
    "        thickness (float): The thickness (height) of the main block.\n",
    "        feature_b_length (float): The length of the flange.\n",
    "        feature_b_width (float): The width of the flange, matching the width of the main block.\n",
    "        feature_b_thickness (float): The thickness (height) of the flange.\n",
    "        model (cadquery.Workplane): The resulting CadQuery Workplane object after combining\n",
    "                                    the main block and the flange.\n",
    "\n",
    "    Methods:\n",
    "        _create_model: Internal method to construct the L-shaped block.\n",
    "        show: Displays the constructed model in a CadQuery viewer.\n",
    "\n",
    "    Example:\n",
    "        >>> block = LShapedBlock(120.0, 80.0, 40.0, 40.0, 80.0, 20)\n",
    "        >>> block.show()\n",
    "\n",
    "    Note:\n",
    "        The L-shaped block is constructed with the main block centered on the 'XZ' workplane,\n",
    "        and the flange positioned relative to it to form the L-shape.\n",
    "\n",
    "    TODO Change widths to be the same\n",
    "    TODO Change thickness and width\n",
    "    '''\n",
    "    def __init__(self, length, width, thickness, feature_b_length, feature_b_width, feature_b_thickness):\n",
    "        '''\n",
    "        Initializes the LShapedBlock with specified dimensions for the main block and flange.\n",
    "\n",
    "        Parameters:\n",
    "            length (float): The length of the main block.\n",
    "            width (float): The width of the main block.\n",
    "            thickness (float): The thickness (height) of the main block.\n",
    "            feature_b_length (float): The length of the flange.\n",
    "            feature_b_width (float): The width of the flange, matching the width of the main block.\n",
    "            feature_b_thickness (float): The thickness (height) of the flange.\n",
    "        '''\n",
    "        self.length = length\n",
    "        self.width = width\n",
    "        self.thickness = thickness\n",
    "        self.feature_b_length = feature_b_length\n",
    "        self.feature_b_width = feature_b_width\n",
    "        self.feature_b_thickness = feature_b_thickness\n",
    "        self.model = self._create_model()\n",
    "        \n",
    "\n",
    "    def _create_model(self):\n",
    "        '''\n",
    "        Constructs the L-shaped block from the main block and flange.\n",
    "        '''\n",
    "        # Create the main block\n",
    "        block = cq.Workplane('XZ').box(self.length, self.thickness, self.width)\n",
    "\n",
    "        # Create the flange\n",
    "        flange = cq.Workplane('XZ', origin=(\n",
    "            self.feature_b_length/2 - self.length/2,\n",
    "            0,\n",
    "            self.thickness/2 + self.feature_b_thickness/2\n",
    "        )).box(self.feature_b_length, self.feature_b_thickness, self.feature_b_width)\n",
    "\n",
    "        # Combine the block and the flange to form an L-shaped profile\n",
    "        return block.union(flange)\n",
    "    \n",
    "\n",
    "    def show(self):\n",
    "        '''\n",
    "        Displays the constructed L-shaped block model in a CadQuery viewer.\n",
    "        '''\n",
    "        show_object(self.model)"
   ]
  },
  {
   "cell_type": "code",
   "execution_count": 5,
   "id": "a5511add-df3c-400e-840e-30034014e016",
   "metadata": {},
   "outputs": [
    {
     "name": "stdout",
     "output_type": "stream",
     "text": [
      "Use the multi select box below to select one or more steps you want to examine\n"
     ]
    },
    {
     "data": {
      "application/vnd.jupyter.widget-view+json": {
       "model_id": "0d143d8864cc40e58a5ab4f2c5524f69",
       "version_major": 2,
       "version_minor": 0
      },
      "text/plain": [
       "HBox(children=(SelectMultiple(_dom_classes=('monospace',), index=(2,), layout=Layout(width='600px'), options=(…"
      ]
     },
     "metadata": {},
     "output_type": "display_data"
    }
   ],
   "source": [
    "# Usage\n",
    "block = CentredLShapedBlock(120.0, 80.0, 40.0, 40.0, 80.0, 20)\n",
    "block.show()"
   ]
  },
  {
   "cell_type": "markdown",
   "id": "68d16cc6-7310-40d4-a416-a56cb2b40334",
   "metadata": {},
   "source": [
    "## Models\n",
    "- [ ] Why using Workplane instead of Solid?"
   ]
  },
  {
   "cell_type": "code",
   "execution_count": 6,
   "id": "fa6db1ad-4c58-4174-a984-0a5fedb9624e",
   "metadata": {
    "tags": [
     "model"
    ]
   },
   "outputs": [],
   "source": [
    "class Model:\n",
    "    \"\"\"\n",
    "    A generic model class that serves as a base for different types of CAD models.\n",
    "    \n",
    "    Attributes:\n",
    "        length (float): The length of the model.\n",
    "        width (float): The width of the model.\n",
    "        height (float): The height of the model.\n",
    "        model (cadquery.Workplane): The resulting CadQuery Workplane object representing the model.\n",
    "    \"\"\"\n",
    "    def __init__(self, length, width, thickness):\n",
    "        \"\"\"\n",
    "        Initializes the Model with specified dimensions.\n",
    "        \n",
    "        Parameters:\n",
    "            length (float): The length of the model.\n",
    "            width (float): The width of the model.\n",
    "            height (float): The height of the model.\n",
    "        \"\"\"\n",
    "        self.length = length\n",
    "        self.width = width\n",
    "        self.thickness = thickness\n",
    "        self.model = self._create_model()\n",
    "\n",
    "    def _create_model(self):\n",
    "        \"\"\"\n",
    "        Creates a basic box model.\n",
    "        \"\"\"\n",
    "        return cq.Workplane(\"XY\").box(self.length, self.width, self.thickness)\n",
    "\n",
    "    def show(self):\n",
    "        \"\"\"\n",
    "        Displays the constructed model in a CadQuery viewer.\n",
    "        \"\"\"\n",
    "        if self.model:\n",
    "            show_object(self.model)\n",
    "        else:\n",
    "            print(\"Model not created yet.\")"
   ]
  },
  {
   "cell_type": "markdown",
   "id": "76872a37-8a77-4790-b1af-65c9effb342a",
   "metadata": {},
   "source": [
    "### Block Example"
   ]
  },
  {
   "cell_type": "code",
   "execution_count": 7,
   "id": "69c5c184-ce9d-4a5c-ba8c-c02e901a6802",
   "metadata": {
    "tags": [
     "lshapedblock"
    ]
   },
   "outputs": [],
   "source": [
    "class LShapedBlock(Model):\n",
    "    \"\"\"\n",
    "    Represents an L-shaped block constructed from a main block and a feature (referred to as feature_b).\n",
    "\n",
    "    This class encapsulates the creation of an L-shaped block model using CadQuery. \n",
    "    The model consists of a primary rectangular block and feature_b extending from one side,\n",
    "    forming an L-shape. The dimensions of both the main block and feature_b can be \n",
    "    customized.\n",
    "\n",
    "    Attributes:\n",
    "        length (float): The length of the main block.\n",
    "        width (float): The width of the main block.\n",
    "        thickness (float): The thickness (height) of the main block.\n",
    "        feature_b_length (float): The length of feature_b.\n",
    "        feature_b_width (float): The width of feature_b, matching the width of the main block.\n",
    "        feature_b_thickness (float): The thickness (height) of feature_b.\n",
    "        model (cadquery.Workplane): The resulting CadQuery Workplane object after combining\n",
    "                                    the main block and feature_b.\n",
    "\n",
    "    Methods:\n",
    "        _create_model: Internal method to construct the L-shaped block.\n",
    "\n",
    "    Example:\n",
    "        >>> block = LShapedBlock(120.0, 80.0, 40.0, 40.0, 80.0, 20)\n",
    "        >>> block.show()\n",
    "\n",
    "    Note:\n",
    "        The L-shaped block is constructed with the main block centered on the 'XZ' workplane,\n",
    "        and feature_b positioned relative to it to form the L-shape.\n",
    "    \"\"\"\n",
    "    def __init__(self, length, width, thickness, feature_b_length, feature_b_width, feature_b_thickness):\n",
    "        \"\"\"\n",
    "        Initializes the LShapedBlock with specified dimensions for the main block and feature_b.\n",
    "\n",
    "        Parameters:\n",
    "            length (float): The length of the main block.\n",
    "            width (float): The width of the main block.\n",
    "            thickness (float): The thickness (height) of the main block.\n",
    "            feature_b_length (float): The length of feature_b.\n",
    "            feature_b_width (float): The width of feature_b, matching the width of the main block.\n",
    "            feature_b_thickness (float): The thickness (height) of feature_b.\n",
    "        \"\"\"\n",
    "        self.length = length\n",
    "        self.width = width\n",
    "        self.thickness = thickness\n",
    "        self.feature_b_length = feature_b_length\n",
    "        self.feature_b_width = feature_b_width\n",
    "        self.feature_b_thickness = feature_b_thickness\n",
    "        self.model = self._create_model()\n",
    "\n",
    "    def _create_model(self):\n",
    "        \"\"\"\n",
    "        Constructs the L-shaped block from the main block and feature_b.\n",
    "        \"\"\"\n",
    "        # Create the main block\n",
    "        block = (\n",
    "            cq.Workplane(\"XY\")\n",
    "            .box(self.length, self.width, self.thickness, centered=(False, False, False))\n",
    "            # .translate((-self.length, -self.width, 0))  # Shift to position lower right at origin\n",
    "        )\n",
    "\n",
    "        # Create feature_b\n",
    "        feature_b = (\n",
    "            cq.Workplane(\"XY\")\n",
    "            .box(self.feature_b_length, self.feature_b_width, self.feature_b_thickness, centered=(False, False, False))\n",
    "            # .translate((-self.feature_b_length, 0, 0))  # Shift to position correctly relative to the main block\n",
    "        )\n",
    "\n",
    "        # Combine the block and feature_b to form an L-shaped profile\n",
    "        # Assuming feature_b extends outward from the side of the main block\n",
    "        return block.union(feature_b.translate((0, 0, self.thickness)))"
   ]
  },
  {
   "cell_type": "code",
   "execution_count": 21,
   "id": "b04d4085-a010-413f-8657-61c51aaf25c4",
   "metadata": {},
   "outputs": [
    {
     "name": "stdout",
     "output_type": "stream",
     "text": [
      "\n",
      "Enabling jupyter_cadquery replay\n",
      "Use the multi select box below to select one or more steps you want to examine\n"
     ]
    },
    {
     "data": {
      "application/vnd.jupyter.widget-view+json": {
       "model_id": "42897cb0a22a440eb03724bed36676b5",
       "version_major": 2,
       "version_minor": 0
      },
      "text/plain": [
       "HBox(children=(SelectMultiple(_dom_classes=('monospace',), index=(3,), layout=Layout(width='600px'), options=(…"
      ]
     },
     "metadata": {},
     "output_type": "display_data"
    }
   ],
   "source": [
    "set_defaults(axes=True, timeit=False)\n",
    "\n",
    "cv = open_viewer(\"Model A\", cad_width=640, height=480, glass=True)\n",
    "\n",
    "\n",
    "enable_replay(False, False)\n",
    "show_object = replay\n",
    "\n",
    "# Example usage:\n",
    "lshapedblock = LShapedBlock(120.0, 80.0, 40.0, 40.0, 80.0, 20)\n",
    "lshapedblock.show()"
   ]
  },
  {
   "cell_type": "markdown",
   "id": "eeb45267-471b-49b1-9879-5c49d2d97def",
   "metadata": {},
   "source": [
    "### Extrusion Example\n",
    "LShapedExtrude creates a model from an extrusion of a more complex sketch describing the full profile of the model."
   ]
  },
  {
   "cell_type": "code",
   "execution_count": 26,
   "id": "cb251d26-5ea4-4bd2-9eab-6579eba8da12",
   "metadata": {
    "tags": [
     "lblockextrude"
    ]
   },
   "outputs": [],
   "source": [
    "class LShapedExtrude(Model):\n",
    "    \"\"\"\n",
    "    Represents an L-shaped block created by extruding an L-shaped sketch.\n",
    "\n",
    "    This class encapsulates the creation of an L-shaped block model using CadQuery by\n",
    "    sketching an L-shape and then extruding it. The dimensions of the L-shape can be\n",
    "    customized, including the lengths of its sides, the width, and the extrusion thickness.\n",
    "\n",
    "    Attributes:\n",
    "        length (float): The horizontal length of the L shape.\n",
    "        width (float): The vertical length of the L shape.\n",
    "        thickness (float): The thickness of the extrusion.\n",
    "        side_width (float): The height difference between the two vertical sides.\n",
    "        side_thickness (float): The width of the sides of the L shape.\n",
    "    \n",
    "        model (cadquery.Workplane): The resulting CadQuery Workplane object after extruding\n",
    "                                    the L-shaped sketch.\n",
    "\n",
    "    Methods:\n",
    "        _create_sketch: Internal method to create the L-shaped sketch.\n",
    "        _create_model: Internal method to extrude the sketch and form the solid.\n",
    "\n",
    "    Example:\n",
    "        >>> l_block = LShapedExtrude(120.0, 80.0, 40.0, 40.0, 20.0)\n",
    "        >>> l_block.show()\n",
    "    \"\"\"\n",
    "    def __init__(self, length, width, thickness, side_width, side_thickness):\n",
    "        \"\"\"\n",
    "        Initializes the LShapedExtrude with specified dimensions for the L-shaped sketch and\n",
    "        extrusion.\n",
    "\n",
    "        Parameters:\n",
    "            length (float): The horizontal length of the L shape.\n",
    "            width (float): The vertical length of the L shape.\n",
    "            thickness (float): The thickness of the extrusion.\n",
    "            side_width (float): The height difference between the two vertical sides.\n",
    "            side_thickness (float): The width of the sides of the L shape.\n",
    "        \"\"\"\n",
    "        self.length = length\n",
    "        self.width = width\n",
    "        self.thickness = thickness\n",
    "        self.side_width = side_width\n",
    "        self.side_thickness = side_thickness\n",
    "        self.model = self._create_model()\n",
    "        \n",
    "    def _create_sketch(self):\n",
    "        \"\"\"\n",
    "        Creates the L-shaped sketch using provided parameters.\n",
    "        \"\"\"\n",
    "        l_shape_sketch = (\n",
    "            cq.Workplane(\"XZ\")\n",
    "            .moveTo(0, 0)  # Starting point at the origin\n",
    "            .vLineTo(self.thickness+self.side_thickness)  # Vertical line up\n",
    "            .hLineTo(self.side_width)  # Horizontal line to the right\n",
    "            .vLineTo(self.thickness)  # Vertical line down\n",
    "            .hLineTo(self.length)  # Horizontal line to the left\n",
    "            .vLineTo(0)  # Close the sketch vertically\n",
    "            .hLineTo(0)  # Close the sketch horizontally\n",
    "            .close()  # Ensure the sketch forms a complete L shape\n",
    "        )\n",
    "        return l_shape_sketch\n",
    "\n",
    "\n",
    "    def _create_model(self):\n",
    "        \"\"\"\n",
    "        Creates the L-shaped model by sketching and extruding the L-shape.\n",
    "        \"\"\"\n",
    "        \n",
    "        l_shape_sketch = self._create_sketch()\n",
    "\n",
    "        # Extrude the L-shaped sketch to create a solid\n",
    "        return l_shape_sketch.extrude(-self.width)\n"
   ]
  },
  {
   "cell_type": "code",
   "execution_count": 27,
   "id": "1446e3d3-3dca-4b4a-bfd7-181c97589104",
   "metadata": {},
   "outputs": [
    {
     "name": "stdout",
     "output_type": "stream",
     "text": [
      "\n",
      "Enabling jupyter_cadquery replay\n",
      "Use the multi select box below to select one or more steps you want to examine\n"
     ]
    },
    {
     "data": {
      "application/vnd.jupyter.widget-view+json": {
       "model_id": "2890713278124b08b310c274256da5d1",
       "version_major": 2,
       "version_minor": 0
      },
      "text/plain": [
       "HBox(children=(SelectMultiple(_dom_classes=('monospace',), index=(8,), layout=Layout(width='600px'), options=(…"
      ]
     },
     "metadata": {},
     "output_type": "display_data"
    }
   ],
   "source": [
    "set_defaults(axes=True, timeit=False)\n",
    "\n",
    "cv = open_viewer(\"Model B\", cad_width=640, height=480, glass=True)\n",
    "\n",
    "\n",
    "enable_replay(False, False)\n",
    "show_object = replay\n",
    "\n",
    "# Example usage:\n",
    "lshapedextrude = LShapedExtrude(120.0, 80.0, 40.0, 40.0, 20.0)\n",
    "lshapedextrude.show()"
   ]
  }
 ],
 "metadata": {
  "kernelspec": {
   "display_name": "Python 3 (ipykernel)",
   "language": "python",
   "name": "python3"
  },
  "language_info": {
   "codemirror_mode": {
    "name": "ipython",
    "version": 3
   },
   "file_extension": ".py",
   "mimetype": "text/x-python",
   "name": "python",
   "nbconvert_exporter": "python",
   "pygments_lexer": "ipython3",
   "version": "3.10.8"
  },
  "toc-autonumbering": true,
  "toc-showcode": true,
  "toc-showmarkdowntxt": false,
  "toc-showtags": true
 },
 "nbformat": 4,
 "nbformat_minor": 5
}
