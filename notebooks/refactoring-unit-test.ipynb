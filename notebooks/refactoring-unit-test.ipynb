{
 "cells": [
  {
   "cell_type": "code",
   "execution_count": 23,
   "id": "849e27cb-9935-4130-8170-9f71c527cc1f",
   "metadata": {},
   "outputs": [
    {
     "name": "stdout",
     "output_type": "stream",
     "text": [
      "\n",
      "Enabling jupyter_cadquery replay\n",
      "\n",
      "Versions:\n",
      "- jupyter_cadquery  3.5.2\n",
      "- cad_viewer_widget 1.4.1\n",
      "- open cascade      7.6.3\n",
      "\n",
      "Plugins loaded:\n",
      "- cadquery-massembly\n"
     ]
    }
   ],
   "source": [
    "import cadquery as cq\n",
    "\n",
    "from jupyter_cadquery import (\n",
    "    versions,\n",
    "    show, PartGroup, Part, \n",
    "    get_viewer, close_viewer, get_viewers, close_viewers, open_viewer, set_defaults, get_defaults, open_viewer,\n",
    "    get_pick,\n",
    ")\n",
    "\n",
    "from jupyter_cadquery.replay import replay, enable_replay, disable_replay, reset_replay\n",
    "''\n",
    "enable_replay(False)\n",
    "\n",
    "set_defaults(\n",
    "    cad_width=640, \n",
    "    height=480, \n",
    ")\n",
    "\n",
    "versions()"
   ]
  },
  {
   "cell_type": "code",
   "execution_count": 24,
   "id": "d6f8504c-d6a0-4db2-83ac-1cdf759edbaf",
   "metadata": {},
   "outputs": [
    {
     "name": "stdout",
     "output_type": "stream",
     "text": [
      "\n",
      "Enabling jupyter_cadquery replay\n"
     ]
    }
   ],
   "source": [
    "set_defaults(axes=True, timeit=False)\n",
    "\n",
    "cv = open_viewer(\"Unit Test Files\", cad_width=640, height=480, glass=True)\n",
    "\n",
    "\n",
    "enable_replay(False, False)\n",
    "show_object = replay"
   ]
  },
  {
   "cell_type": "code",
   "execution_count": 25,
   "id": "c3ce3d92-675e-4743-9a34-ca5775400496",
   "metadata": {},
   "outputs": [
    {
     "name": "stdout",
     "output_type": "stream",
     "text": [
      "Use the multi select box below to select one or more steps you want to examine\n"
     ]
    },
    {
     "data": {
      "application/vnd.jupyter.widget-view+json": {
       "model_id": "04cdccf8658f46a0baf2bd26a2f1683b",
       "version_major": 2,
       "version_minor": 0
      },
      "text/plain": [
       "HBox(children=(SelectMultiple(_dom_classes=('monospace',), index=(0,), layout=Layout(width='600px'), options=(…"
      ]
     },
     "metadata": {},
     "output_type": "display_data"
    },
    {
     "data": {
      "text/plain": [
       "<jupyter_cadquery.replay.Replay at 0x7fff721bd570>"
      ]
     },
     "execution_count": 25,
     "metadata": {},
     "output_type": "execute_result"
    }
   ],
   "source": [
    "# These can be modified rather than hardcoding values for each dimension.\n",
    "length = 120.0  # Length of the block\n",
    "width = 40.0  # Width of the block\n",
    "thickness = 80.0  # Thickness of the block\n",
    "\n",
    "feature_b_length = 120.0  # Length of the block's flange\n",
    "feature_b_width = 40.0  # Width of the block's flange\n",
    "feature_b_thickness = 40.0  # Thickness of the block's flange\n",
    "\n",
    "result = (\n",
    "    cq.Workplane('XZ')\n",
    "    .box(length, width, thickness)\n",
    ")\n",
    "\n",
    "# Displays the result of this script\n",
    "show_object(result, show_result=False)"
   ]
  },
  {
   "cell_type": "markdown",
   "id": "81a9b76c-885f-400c-a0cc-571d0281e905",
   "metadata": {},
   "source": [
    "* [ ] Change flange to feature name"
   ]
  },
  {
   "cell_type": "code",
   "execution_count": 26,
   "id": "3244da13-2e41-4a49-ab5c-5af43669d186",
   "metadata": {},
   "outputs": [],
   "source": [
    "class LShapedBlock:\n",
    "    '''\n",
    "    Represents an L-shaped block constructed from a main block and a flange.\n",
    "\n",
    "    This class encapsulates the creation of an L-shaped block model using CadQuery. \n",
    "    The model consists of a primary rectangular block and a flange extending from one side,\n",
    "    forming an L-shape. The dimensions of both the main block and the flange can be \n",
    "    customized.\n",
    "\n",
    "    Attributes:\n",
    "        length (float): The length of the main block.\n",
    "        width (float): The width of the main block.\n",
    "        thickness (float): The thickness (height) of the main block.\n",
    "        feature_b_length (float): The length of the flange.\n",
    "        feature_b_width (float): The width of the flange, matching the width of the main block.\n",
    "        feature_b_thickness (float): The thickness (height) of the flange.\n",
    "        model (cadquery.Workplane): The resulting CadQuery Workplane object after combining\n",
    "                                    the main block and the flange.\n",
    "\n",
    "    Methods:\n",
    "        _create_model: Internal method to construct the L-shaped block.\n",
    "        show: Displays the constructed model in a CadQuery viewer.\n",
    "\n",
    "    Example:\n",
    "        >>> block = LShapedBlock(120.0, 80.0, 40.0, 40.0, 80.0, 20)\n",
    "        >>> block.show()\n",
    "\n",
    "    Note:\n",
    "        The L-shaped block is constructed with the main block centered on the 'XZ' workplane,\n",
    "        and the flange positioned relative to it to form the L-shape.\n",
    "\n",
    "    TODO Change widths to be the same\n",
    "    TODO Change thickness and width\n",
    "    '''\n",
    "    def __init__(self, length, width, thickness, feature_b_length, feature_b_width, feature_b_thickness):\n",
    "        '''\n",
    "        Initializes the LShapedBlock with specified dimensions for the main block and flange.\n",
    "\n",
    "        Parameters:\n",
    "            length (float): The length of the main block.\n",
    "            width (float): The width of the main block.\n",
    "            thickness (float): The thickness (height) of the main block.\n",
    "            feature_b_length (float): The length of the flange.\n",
    "            feature_b_width (float): The width of the flange, matching the width of the main block.\n",
    "            feature_b_thickness (float): The thickness (height) of the flange.\n",
    "        '''\n",
    "        self.length = length\n",
    "        self.width = width\n",
    "        self.thickness = thickness\n",
    "        self.feature_b_length = feature_b_length\n",
    "        self.feature_b_width = feature_b_width\n",
    "        self.feature_b_thickness = feature_b_thickness\n",
    "        self.model = self._create_model()\n",
    "        \n",
    "\n",
    "    def _create_model(self):\n",
    "        '''\n",
    "        Constructs the L-shaped block from the main block and flange.\n",
    "        '''\n",
    "        # Create the main block\n",
    "        block = cq.Workplane('XZ').box(self.length, self.thickness, self.width)\n",
    "\n",
    "        # Create the flange\n",
    "        flange = cq.Workplane('XZ', origin=(\n",
    "            self.feature_b_length/2 - self.length/2,\n",
    "            0,\n",
    "            self.thickness/2 + self.feature_b_thickness/2\n",
    "        )).box(self.feature_b_length, self.feature_b_thickness, self.feature_b_width)\n",
    "\n",
    "        # Combine the block and the flange to form an L-shaped profile\n",
    "        return block.union(flange)\n",
    "    \n",
    "\n",
    "    def show(self):\n",
    "        '''\n",
    "        Displays the constructed L-shaped block model in a CadQuery viewer.\n",
    "        '''\n",
    "        show_object(self.model)"
   ]
  },
  {
   "cell_type": "code",
   "execution_count": 27,
   "id": "a5511add-df3c-400e-840e-30034014e016",
   "metadata": {},
   "outputs": [
    {
     "name": "stdout",
     "output_type": "stream",
     "text": [
      "Use the multi select box below to select one or more steps you want to examine\n"
     ]
    },
    {
     "data": {
      "application/vnd.jupyter.widget-view+json": {
       "model_id": "7f17d171708e4470beb27cbf9b4f9d94",
       "version_major": 2,
       "version_minor": 0
      },
      "text/plain": [
       "HBox(children=(SelectMultiple(_dom_classes=('monospace',), index=(2,), layout=Layout(width='600px'), options=(…"
      ]
     },
     "metadata": {},
     "output_type": "display_data"
    }
   ],
   "source": [
    "# Usage\n",
    "block = LShapedBlock(120.0, 80.0, 40.0, 40.0, 80.0, 20)\n",
    "block.show()"
   ]
  },
  {
   "cell_type": "code",
   "execution_count": 16,
   "id": "159f0263-8e25-481b-ae6f-149d89e9c0b6",
   "metadata": {},
   "outputs": [],
   "source": [
    "class LShapedExtrude:\n",
    "        '''\n",
    "        TODO Add docstring here\n",
    "        '''\n",
    "    \n",
    "        def __init__(self, length, width, thickness, feature_b_length, feature_b_width, feature_b_thickness):\n",
    "            '''\n",
    "            Initializes the LShapedBlock with specified dimensions for the main block and flange.\n",
    "\n",
    "            Parameters:\n",
    "                length (float): The length of the main block.\n",
    "                width (float): The width of the main block.\n",
    "                thickness (float): The thickness (height) of the main block.\n",
    "                feature_b_length (float): The length of the flange.\n",
    "                feature_b_width (float): The width of the flange, matching the width of the main block.\n",
    "                feature_b_thickness (float): The thickness (height) of the flange.\n",
    "            '''\n",
    "            self.length = length\n",
    "            self.width = width\n",
    "            self.thickness = thickness\n",
    "            self.feature_b_length = feature_b_length\n",
    "            self.feature_b_width = feature_b_width\n",
    "            self.feature_b_thickness = feature_b_thickness\n",
    "            self.model = self._create_model()\n"
   ]
  },
  {
   "cell_type": "code",
   "execution_count": null,
   "id": "2120116b-ea10-4488-92b5-68edfcc045da",
   "metadata": {},
   "outputs": [],
   "source": [
    "set_defaults(axes=True, timeit=False)\n",
    "\n",
    "cv = open_viewer(\"Model A\", cad_width=640, height=480, glass=True)\n",
    "\n",
    "\n",
    "enable_replay(False, False)\n",
    "show_object = replay"
   ]
  },
  {
   "cell_type": "code",
   "execution_count": 28,
   "id": "69c5c184-ce9d-4a5c-ba8c-c02e901a6802",
   "metadata": {},
   "outputs": [],
   "source": [
    "class CornerLShapedBlock:\n",
    "    \"\"\"\n",
    "    Represents an L-shaped block constructed from a main block and a feature (referred to as feature_b).\n",
    "\n",
    "    This class encapsulates the creation of an L-shaped block model using CadQuery. \n",
    "    The model consists of a primary rectangular block and feature_b extending from one side,\n",
    "    forming an L-shape. The dimensions of both the main block and feature_b can be \n",
    "    customized.\n",
    "\n",
    "    Attributes:\n",
    "        length (float): The length of the main block.\n",
    "        width (float): The width of the main block.\n",
    "        thickness (float): The thickness (height) of the main block.\n",
    "        feature_b_length (float): The length of feature_b.\n",
    "        feature_b_width (float): The width of feature_b, matching the width of the main block.\n",
    "        feature_b_thickness (float): The thickness (height) of feature_b.\n",
    "        model (cadquery.Workplane): The resulting CadQuery Workplane object after combining\n",
    "                                    the main block and feature_b.\n",
    "\n",
    "    Methods:\n",
    "        _create_model: Internal method to construct the L-shaped block.\n",
    "        show: Displays the constructed model in a CadQuery viewer.\n",
    "\n",
    "    Example:\n",
    "        >>> block = LShapedBlock(120.0, 80.0, 40.0, 40.0, 80.0, 20)\n",
    "        >>> block.show()\n",
    "\n",
    "    Note:\n",
    "        The L-shaped block is constructed with the main block centered on the 'XZ' workplane,\n",
    "        and feature_b positioned relative to it to form the L-shape.\n",
    "    \"\"\"\n",
    "    def __init__(self, length, width, thickness, feature_b_length, feature_b_width, feature_b_thickness):\n",
    "        \"\"\"\n",
    "        Initializes the LShapedBlock with specified dimensions for the main block and feature_b.\n",
    "\n",
    "        Parameters:\n",
    "            length (float): The length of the main block.\n",
    "            width (float): The width of the main block.\n",
    "            thickness (float): The thickness (height) of the main block.\n",
    "            feature_b_length (float): The length of feature_b.\n",
    "            feature_b_width (float): The width of feature_b, matching the width of the main block.\n",
    "            feature_b_thickness (float): The thickness (height) of feature_b.\n",
    "        \"\"\"\n",
    "        self.length = length\n",
    "        self.width = width\n",
    "        self.thickness = thickness\n",
    "        self.feature_b_length = feature_b_length\n",
    "        self.feature_b_width = feature_b_width\n",
    "        self.feature_b_thickness = feature_b_thickness\n",
    "        self.model = self._create_model()\n",
    "\n",
    "    def _create_model(self):\n",
    "        \"\"\"\n",
    "        Constructs the L-shaped block from the main block and feature_b.\n",
    "        \"\"\"\n",
    "        # Create the main block\n",
    "        block = (\n",
    "            cq.Workplane(\"XY\")\n",
    "            .box(self.length, self.width, self.thickness, centered=(False, False, False))\n",
    "            # .translate((-self.length, -self.width, 0))  # Shift to position lower right at origin\n",
    "        )\n",
    "\n",
    "        # Create feature_b\n",
    "        feature_b = (\n",
    "            cq.Workplane(\"XY\")\n",
    "            .box(self.feature_b_length, self.feature_b_width, self.feature_b_thickness, centered=(False, False, False))\n",
    "            # .translate((-self.feature_b_length, 0, 0))  # Shift to position correctly relative to the main block\n",
    "        )\n",
    "\n",
    "        # Combine the block and feature_b to form an L-shaped profile\n",
    "        # Assuming feature_b extends outward from the side of the main block\n",
    "        return block.union(feature_b.translate((0, 0, self.thickness)))\n",
    "\n",
    "    def show(self):\n",
    "        \"\"\"\n",
    "        Displays the constructed L-shaped block model in a CadQuery viewer.\n",
    "        \"\"\"\n",
    "        show_object(self.model)"
   ]
  },
  {
   "cell_type": "code",
   "execution_count": 29,
   "id": "b04d4085-a010-413f-8657-61c51aaf25c4",
   "metadata": {},
   "outputs": [
    {
     "name": "stdout",
     "output_type": "stream",
     "text": [
      "Use the multi select box below to select one or more steps you want to examine\n"
     ]
    },
    {
     "data": {
      "application/vnd.jupyter.widget-view+json": {
       "model_id": "1d7ed97c89a04dc49cc5123bd22e7f76",
       "version_major": 2,
       "version_minor": 0
      },
      "text/plain": [
       "HBox(children=(SelectMultiple(_dom_classes=('monospace',), index=(3,), layout=Layout(width='600px'), options=(…"
      ]
     },
     "metadata": {},
     "output_type": "display_data"
    }
   ],
   "source": [
    "# Example usage:\n",
    "block = CornerLShapedBlock(120.0, 80.0, 40.0, 40.0, 80.0, 20)\n",
    "block.show()"
   ]
  },
  {
   "cell_type": "code",
   "execution_count": 31,
   "id": "f0000236-a82f-45d2-b427-6240eb388951",
   "metadata": {},
   "outputs": [
    {
     "name": "stdout",
     "output_type": "stream",
     "text": [
      "Use the multi select box below to select one or more steps you want to examine\n"
     ]
    },
    {
     "data": {
      "application/vnd.jupyter.widget-view+json": {
       "model_id": "3fc4827ded74484096329d6db20b9187",
       "version_major": 2,
       "version_minor": 0
      },
      "text/plain": [
       "HBox(children=(SelectMultiple(_dom_classes=('monospace',), index=(1,), layout=Layout(width='600px'), options=(…"
      ]
     },
     "metadata": {},
     "output_type": "display_data"
    },
    {
     "data": {
      "text/plain": [
       "<jupyter_cadquery.replay.Replay at 0x7fff721be950>"
      ]
     },
     "execution_count": 31,
     "metadata": {},
     "output_type": "execute_result"
    }
   ],
   "source": [
    "# Parameters for the rectangle\n",
    "length = 60.0  # Length of the rectangle\n",
    "width = 40.0  # Width of the rectangle\n",
    "\n",
    "# Extrusion thickness\n",
    "thickness = 20.0\n",
    "\n",
    "# Create a workplane\n",
    "workplane = cq.Workplane(\"XY\")\n",
    "\n",
    "# Sketch a rectangle on the workplane\n",
    "rectangle_sketch = workplane.rect(length, width)\n",
    "\n",
    "# Extrude the sketch to create a solid box\n",
    "box = rectangle_sketch.extrude(thickness)\n",
    "\n",
    "# Display the result\n",
    "show_object(box)\n"
   ]
  },
  {
   "cell_type": "code",
   "execution_count": 30,
   "id": "f0f594ca-e417-41c5-af83-a970c7daed8a",
   "metadata": {},
   "outputs": [
    {
     "name": "stdout",
     "output_type": "stream",
     "text": [
      "\n",
      "Enabling jupyter_cadquery replay\n"
     ]
    }
   ],
   "source": [
    "set_defaults(axes=True, timeit=False)\n",
    "\n",
    "cv = open_viewer(\"Model B\", cad_width=640, height=480, glass=True)\n",
    "\n",
    "\n",
    "enable_replay(False, False)\n",
    "show_object = replay"
   ]
  },
  {
   "cell_type": "code",
   "execution_count": 32,
   "id": "5f719d6f-b1eb-4831-bf6e-0fbf2ce3e189",
   "metadata": {},
   "outputs": [
    {
     "name": "stdout",
     "output_type": "stream",
     "text": [
      "Use the multi select box below to select one or more steps you want to examine\n"
     ]
    },
    {
     "data": {
      "application/vnd.jupyter.widget-view+json": {
       "model_id": "048e5258de8a48a0bc61270aa6cf48cd",
       "version_major": 2,
       "version_minor": 0
      },
      "text/plain": [
       "HBox(children=(SelectMultiple(_dom_classes=('monospace',), index=(8,), layout=Layout(width='600px'), options=(…"
      ]
     },
     "metadata": {},
     "output_type": "display_data"
    },
    {
     "data": {
      "text/plain": [
       "<jupyter_cadquery.replay.Replay at 0x7ffffcd23bb0>"
      ]
     },
     "execution_count": 32,
     "metadata": {},
     "output_type": "execute_result"
    }
   ],
   "source": [
    "# Define dimensions\n",
    "thickness = 80.0  # Thickness of the extrusion\n",
    "\n",
    "# Lengths of the L shape sides\n",
    "vertical_length = 60.0\n",
    "length = 120.0\n",
    "\n",
    "# Widths of the L shape sides (assuming uniform width for simplicity)\n",
    "side_width = 40.0\n",
    "side_height = 20.0\n",
    "\n",
    "# Create an L-shaped sketch\n",
    "l_shape_sketch = (\n",
    "    cq.Workplane(\"XZ\")\n",
    "    .moveTo(0, 0)  # Starting point at the origin\n",
    "    .vLineTo(vertical_length)  # Vertical line up\n",
    "    .hLineTo(side_width)  # Horizontal line to the right\n",
    "    .vLineTo(vertical_length-side_height)  # Vertical line down to create the first side of the L\n",
    "    .hLineTo(length)  # Horizontal line to the left\n",
    "    .vLineTo(0)  # Vertical line down to create the bottom side of the L\n",
    "    .hLineTo(0)\n",
    "    .close()  # Close the sketch to form an L shape\n",
    ")\n",
    "\n",
    "# Extrude the L-shaped sketch to create a solid\n",
    "l_shape_solid = l_shape_sketch.extrude(-thickness)\n",
    "\n",
    "# Display the result\n",
    "show_object(l_shape_solid)"
   ]
  },
  {
   "cell_type": "code",
   "execution_count": 22,
   "id": "cb251d26-5ea4-4bd2-9eab-6579eba8da12",
   "metadata": {},
   "outputs": [
    {
     "ename": "NameError",
     "evalue": "name 'l_shaped_solid' is not defined",
     "output_type": "error",
     "traceback": [
      "\u001b[0;31m---------------------------------------------------------------------------\u001b[0m",
      "\u001b[0;31mNameError\u001b[0m                                 Traceback (most recent call last)",
      "Cell \u001b[0;32mIn[22], line 1\u001b[0m\n\u001b[0;32m----> 1\u001b[0m \u001b[43ml_shaped_solid\u001b[49m \u001b[38;5;241m==\u001b[39m block\u001b[38;5;241m.\u001b[39mmodel\n",
      "\u001b[0;31mNameError\u001b[0m: name 'l_shaped_solid' is not defined"
     ]
    }
   ],
   "source": [
    "l_shaped_solid == block.model"
   ]
  }
 ],
 "metadata": {
  "kernelspec": {
   "display_name": "Python 3 (ipykernel)",
   "language": "python",
   "name": "python3"
  },
  "language_info": {
   "codemirror_mode": {
    "name": "ipython",
    "version": 3
   },
   "file_extension": ".py",
   "mimetype": "text/x-python",
   "name": "python",
   "nbconvert_exporter": "python",
   "pygments_lexer": "ipython3",
   "version": "3.10.8"
  }
 },
 "nbformat": 4,
 "nbformat_minor": 5
}
